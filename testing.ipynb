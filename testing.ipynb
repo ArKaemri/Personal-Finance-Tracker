{
 "cells": [
  {
   "cell_type": "markdown",
   "id": "ce7c9b8e",
   "metadata": {},
   "source": [
    "### Dependencies"
   ]
  },
  {
   "cell_type": "code",
   "execution_count": 4,
   "id": "572b4b21",
   "metadata": {},
   "outputs": [],
   "source": [
    "import tkinter as tk\n",
    "from tkinter import ttk"
   ]
  },
  {
   "cell_type": "markdown",
   "id": "e2cb175c",
   "metadata": {},
   "source": [
    "### UI display"
   ]
  },
  {
   "cell_type": "markdown",
   "id": "a38fad33",
   "metadata": {},
   "source": [
    "popup window"
   ]
  },
  {
   "cell_type": "code",
   "execution_count": null,
   "id": "683acac1",
   "metadata": {},
   "outputs": [
    {
     "data": {
      "text/plain": [
       "''"
      ]
     },
     "execution_count": 9,
     "metadata": {},
     "output_type": "execute_result"
    }
   ],
   "source": [
    "# window instance with manual name\n",
    "window = tk.Tk(className='expense tracker')\n",
    "\n",
    "# size of tkinter window\n",
    "w = 800\n",
    "h = 800\n",
    "\n",
    "# get width/height of the screen\n",
    "screen_w = window.winfo_screenwidth()\n",
    "screen_h = window.winfo_screenheight()\n",
    "\n",
    "# get coordinates of windows top left corner, to place it in middle\n",
    "x = (screen_w / 2) - (w / 2)\n",
    "y = (screen_h / 2) - (h / 2)\n",
    "\n",
    "# setup size and placement\n",
    "# x - multiply, %d - placeholder, % () - replacement in order\n",
    "window.geometry('%dx%d+%d+%d' % (w, h, x, y))"
   ]
  },
  {
   "cell_type": "markdown",
   "id": "e3a31937",
   "metadata": {},
   "source": [
    "bind Esc key to close window"
   ]
  },
  {
   "cell_type": "code",
   "execution_count": 10,
   "id": "d796f0ef",
   "metadata": {},
   "outputs": [
    {
     "data": {
      "text/plain": [
       "'2077122171712<lambda>'"
      ]
     },
     "execution_count": 10,
     "metadata": {},
     "output_type": "execute_result"
    }
   ],
   "source": [
    "def close_window(e):\n",
    "    window.destroy()\n",
    "    \n",
    "window.bind('<Escape>', lambda e: close_window(e))"
   ]
  },
  {
   "cell_type": "markdown",
   "id": "b0c96912",
   "metadata": {},
   "source": []
  },
  {
   "cell_type": "code",
   "execution_count": null,
   "id": "b5b4ec1f",
   "metadata": {},
   "outputs": [],
   "source": []
  },
  {
   "cell_type": "code",
   "execution_count": 11,
   "id": "111a73f9",
   "metadata": {},
   "outputs": [],
   "source": [
    "window.mainloop()"
   ]
  }
 ],
 "metadata": {
  "kernelspec": {
   "display_name": "Python 3",
   "language": "python",
   "name": "python3"
  },
  "language_info": {
   "codemirror_mode": {
    "name": "ipython",
    "version": 3
   },
   "file_extension": ".py",
   "mimetype": "text/x-python",
   "name": "python",
   "nbconvert_exporter": "python",
   "pygments_lexer": "ipython3",
   "version": "3.13.5"
  }
 },
 "nbformat": 4,
 "nbformat_minor": 5
}
