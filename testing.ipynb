{
 "cells": [
  {
   "cell_type": "markdown",
   "id": "ce7c9b8e",
   "metadata": {},
   "source": [
    "## Dependencies"
   ]
  },
  {
   "cell_type": "code",
   "execution_count": null,
   "id": "572b4b21",
   "metadata": {},
   "outputs": [],
   "source": [
    "import tkinter as tk\n",
    "from tkinter import ttk"
   ]
  },
  {
   "cell_type": "markdown",
   "id": "e2cb175c",
   "metadata": {},
   "source": [
    "## UI display"
   ]
  },
  {
   "cell_type": "markdown",
   "id": "a38fad33",
   "metadata": {},
   "source": [
    "#### popup window"
   ]
  },
  {
   "cell_type": "code",
   "execution_count": 26,
   "id": "683acac1",
   "metadata": {},
   "outputs": [
    {
     "data": {
      "text/plain": [
       "''"
      ]
     },
     "execution_count": 26,
     "metadata": {},
     "output_type": "execute_result"
    }
   ],
   "source": [
    "# window instance with manual name\n",
    "window = tk.Tk(className='expense tracker')\n",
    "\n",
    "# size of tkinter window\n",
    "w = 800\n",
    "h = 800\n",
    "\n",
    "# get width/height of the screen\n",
    "screen_w = window.winfo_screenwidth()\n",
    "screen_h = window.winfo_screenheight()\n",
    "\n",
    "# get coordinates of windows top left corner, to place it in middle\n",
    "x = (screen_w / 2) - (w / 2)\n",
    "y = (screen_h / 2) - (h / 2)\n",
    "\n",
    "# setup size and placement\n",
    "# x - multiply, %d - placeholder, % () - replacement in order\n",
    "window.geometry('%dx%d+%d+%d' % (w, h, x, y))\n",
    "\n",
    "# setup window color\n",
    "window.configure(bg='#3f3f41')"
   ]
  },
  {
   "cell_type": "markdown",
   "id": "e3a31937",
   "metadata": {},
   "source": [
    "#### bind Esc key to close window"
   ]
  },
  {
   "cell_type": "code",
   "execution_count": null,
   "id": "d796f0ef",
   "metadata": {},
   "outputs": [
    {
     "data": {
      "text/plain": [
       "'2077148923840<lambda>'"
      ]
     },
     "execution_count": 27,
     "metadata": {},
     "output_type": "execute_result"
    }
   ],
   "source": [
    "# close window by passing variable\n",
    "def close_window(e):\n",
    "    window.destroy()\n",
    "    \n",
    "# pass Esc key as variable for function\n",
    "window.bind('<Escape>', lambda e: close_window(e))"
   ]
  },
  {
   "cell_type": "markdown",
   "id": "962d0ad0",
   "metadata": {},
   "source": [
    "#### bind enter to act as click on buttons"
   ]
  },
  {
   "cell_type": "code",
   "execution_count": null,
   "id": "7d1830fd",
   "metadata": {},
   "outputs": [],
   "source": []
  },
  {
   "cell_type": "markdown",
   "id": "d15af533",
   "metadata": {},
   "source": [
    "#### menu "
   ]
  },
  {
   "cell_type": "code",
   "execution_count": null,
   "id": "8b2ea84b",
   "metadata": {},
   "outputs": [],
   "source": [
    "# create main menu (whole top bar where all options reside)\n",
    "menu = tk.Menu(window)\n",
    "# set the menu\n",
    "window.config(menu=menu)\n",
    "\n",
    "# create submenu (seperate options that will have choices after clicked)\n",
    "file_menu = tk.Menu(menu)\n",
    "# name it and add to the main menu\n",
    "menu.add_cascade(label='Window', menu=file_menu)\n",
    "# add seperate choices\n",
    "file_menu.add_command(label='New')\n",
    "file_menu.add_command(label='Overview')\n",
    "file_menu.add_command(label='History')\n",
    "file_menu.add_command(label='Chart')\n",
    "\n",
    "# repeat with second submenu\n",
    "export_menu = tk.Menu(menu)\n",
    "menu.add_cascade(label='Export', menu=export_menu)\n",
    "export_menu.add_command(label='To CSV')\n",
    "export_menu.add_command(label='To xlsx')\n",
    "\n",
    "# repeat with third submenu\n",
    "help_menu = tk.Menu(menu)\n",
    "menu.add_cascade(label='Help', menu=help_menu)\n",
    "help_menu.add_command(label='Files')\n",
    "help_menu.add_command(label='New entry')\n",
    "help_menu.add_command(label='Overview')\n",
    "help_menu.add_command(label='History')\n",
    "help_menu.add_command(label='Chart')\n",
    "help_menu.add_command(label='Export')"
   ]
  },
  {
   "cell_type": "markdown",
   "id": "5d33e9bb",
   "metadata": {},
   "source": [
    "#### main frame (where all widgets from menu goes)"
   ]
  },
  {
   "cell_type": "code",
   "execution_count": null,
   "id": "547ffff9",
   "metadata": {},
   "outputs": [],
   "source": [
    "# create empty frame where widgets will appear\n",
    "main_frame = tk.Frame(window)\n",
    "# position it to whole space\n",
    "main_frame.pack(fill='both', expand='True')"
   ]
  },
  {
   "cell_type": "markdown",
   "id": "d4825caa",
   "metadata": {},
   "source": [
    "#### reload function (delete widgets)"
   ]
  },
  {
   "cell_type": "code",
   "execution_count": null,
   "id": "959f6086",
   "metadata": {},
   "outputs": [],
   "source": [
    "# goes through all widgets of parent and erases them\n",
    "def reset_window():\n",
    "    for widget in main_frame.winfo_children():\n",
    "        widget.destroy()"
   ]
  },
  {
   "cell_type": "markdown",
   "id": "b0c96912",
   "metadata": {},
   "source": [
    "#### new entry window UI"
   ]
  },
  {
   "cell_type": "code",
   "execution_count": null,
   "id": "b5b4ec1f",
   "metadata": {},
   "outputs": [],
   "source": [
    "# add entry window\n",
    "def create_entry():\n",
    "    # delete widgets on the screen\n",
    "    reset_window()\n",
    "    # label of the window\n",
    "    header = tk.Label(main_frame, text='New Entry', font=('System', 26))\n",
    "    header.pack(pady=20)\n",
    "    # acount choice, currently just UI element\n",
    "    acounts = ttk.Combobox(main_frame, values=['temp1', 'temp2'], font=('System', 18))\n",
    "    acounts.pack(pady=50)\n",
    "    acounts.current(0) # default option, 1-st from the list\n",
    "    # amount input field\n",
    "    amount = tk.Entry(main_frame, selectbackground='white', selectforeground='black', font=('System', 18))\n",
    "    amount.pack(pady=50)\n",
    "    # source/desination input field\n",
    "    text = tk.Entry(main_frame, selectbackground='white', selectforeground='black', font=('System', 18))\n",
    "    text.pack(pady=50)\n",
    "    # activation button - save to txt file\n",
    "    button = tk.Button(main_frame, text='Save', activebackground='white', activeforeground='black', font=('System', 18))\n",
    "    button.pack(pady=20)"
   ]
  },
  {
   "cell_type": "markdown",
   "id": "9a1b89f8",
   "metadata": {},
   "source": [
    "#### overview window UI"
   ]
  },
  {
   "cell_type": "code",
   "execution_count": null,
   "id": "8c589895",
   "metadata": {},
   "outputs": [],
   "source": [
    "def create_overview():\n",
    "    reset_window()\n",
    "    # label of the window\n",
    "    header = tk.Label(main_frame, text='Finance Overview', font=('System', 26))\n",
    "    header.pack(pady=20)\n",
    "    # account choice\n",
    "    acounts = ttk.Combobox(main_frame, values=['temp1', 'temp2'], font=('System', 18))\n",
    "    acounts.pack(pady=80)\n",
    "    acounts.current(0)\n",
    "    # spacer to position button\n",
    "    spacer = tk.Frame(main_frame, height=200)\n",
    "    spacer.pack()\n",
    "    # button to activate\n",
    "    button = tk.Button(main_frame, text='Show', activebackground='white', activeforeground='black', font=('System', 18))\n",
    "    button.pack(pady=20)"
   ]
  },
  {
   "cell_type": "markdown",
   "id": "3d2e2918",
   "metadata": {},
   "source": [
    "#### history window UI"
   ]
  },
  {
   "cell_type": "code",
   "execution_count": null,
   "id": "dca7aa8a",
   "metadata": {},
   "outputs": [],
   "source": [
    "def create_history():\n",
    "    reset_window()\n",
    "    # label of the window\n",
    "    header = tk.Label(main_frame, text='Finance History', font=('System', 26))\n",
    "    header.pack(pady=20)\n",
    "    # account choice\n",
    "    acounts = ttk.Combobox(main_frame, values=['temp1', 'temp2'], font=('System', 18))\n",
    "    acounts.pack(pady=60)\n",
    "    acounts.current(0)\n",
    "    # date choice - currently just UI \n",
    "    date = ttk.Combobox(main_frame, values=['1 month', '3 months'], font=('System', 18))\n",
    "    date.pack(pady=60)\n",
    "    date.current(0)\n",
    "    # spacer to position button\n",
    "    spacer = tk.Frame(main_frame, height=100)\n",
    "    spacer.pack()\n",
    "    # button to activate\n",
    "    button = tk.Button(main_frame, text='Plot', activebackground='white', activeforeground='black', font=('System', 18))\n",
    "    button.pack(pady=20)"
   ]
  },
  {
   "cell_type": "markdown",
   "id": "3fb4b469",
   "metadata": {},
   "source": [
    "#### chart window UI"
   ]
  },
  {
   "cell_type": "code",
   "execution_count": null,
   "id": "4d2396db",
   "metadata": {},
   "outputs": [],
   "source": [
    "def create_chart():\n",
    "    reset_window()\n",
    "    # label of the window\n",
    "    header = tk.Label(main_frame, text='Earning/Spending Chart', font=('System', 26))\n",
    "    header.pack(pady=20)\n",
    "    # account choice\n",
    "    acounts = ttk.Combobox(main_frame, values=['temp1', 'temp2'], font=('System', 18))\n",
    "    acounts.pack(pady=80)\n",
    "    acounts.current(0)\n",
    "    # spacer to position button\n",
    "    spacer = tk.Frame(main_frame, height=200)\n",
    "    spacer.pack()\n",
    "    # button to activate\n",
    "    button = tk.Button(main_frame, text='Plot', activebackground='white', activeforeground='black', font=('System', 18))\n",
    "    button.pack(pady=20)"
   ]
  },
  {
   "cell_type": "code",
   "execution_count": 20,
   "id": "ccea3f26",
   "metadata": {},
   "outputs": [
    {
     "ename": "TclError",
     "evalue": "invalid command name \".\"",
     "output_type": "error",
     "traceback": [
      "\u001b[31m---------------------------------------------------------------------------\u001b[39m",
      "\u001b[31mTclError\u001b[39m                                  Traceback (most recent call last)",
      "\u001b[36mCell\u001b[39m\u001b[36m \u001b[39m\u001b[32mIn[20]\u001b[39m\u001b[32m, line 76\u001b[39m\n\u001b[32m     72\u001b[39m create_chart()\n\u001b[32m     74\u001b[39m window.mainloop()\n\u001b[32m---> \u001b[39m\u001b[32m76\u001b[39m \u001b[43mwindow\u001b[49m\u001b[43m.\u001b[49m\u001b[43mconfigure\u001b[49m\u001b[43m(\u001b[49m\u001b[43mbg\u001b[49m\u001b[43m=\u001b[49m\u001b[33;43m'\u001b[39;49m\u001b[33;43m#3f3f41\u001b[39;49m\u001b[33;43m'\u001b[39;49m\u001b[43m)\u001b[49m\n\u001b[32m     77\u001b[39m \u001b[38;5;28;01mdef\u001b[39;00m\u001b[38;5;250m \u001b[39m\u001b[34mclose_window\u001b[39m(e):\n\u001b[32m     78\u001b[39m     window.destroy()\n",
      "\u001b[36mFile \u001b[39m\u001b[32mc:\\Personal\\programming\\expense_tracker\\env\\Lib\\tkinter\\__init__.py:1822\u001b[39m, in \u001b[36mMisc.configure\u001b[39m\u001b[34m(self, cnf, **kw)\u001b[39m\n\u001b[32m   1815\u001b[39m \u001b[38;5;28;01mdef\u001b[39;00m\u001b[38;5;250m \u001b[39m\u001b[34mconfigure\u001b[39m(\u001b[38;5;28mself\u001b[39m, cnf=\u001b[38;5;28;01mNone\u001b[39;00m, **kw):\n\u001b[32m   1816\u001b[39m \u001b[38;5;250m    \u001b[39m\u001b[33;03m\"\"\"Configure resources of a widget.\u001b[39;00m\n\u001b[32m   1817\u001b[39m \n\u001b[32m   1818\u001b[39m \u001b[33;03m    The values for resources are specified as keyword\u001b[39;00m\n\u001b[32m   1819\u001b[39m \u001b[33;03m    arguments. To get an overview about\u001b[39;00m\n\u001b[32m   1820\u001b[39m \u001b[33;03m    the allowed keyword arguments call the method keys.\u001b[39;00m\n\u001b[32m   1821\u001b[39m \u001b[33;03m    \"\"\"\u001b[39;00m\n\u001b[32m-> \u001b[39m\u001b[32m1822\u001b[39m     \u001b[38;5;28;01mreturn\u001b[39;00m \u001b[38;5;28;43mself\u001b[39;49m\u001b[43m.\u001b[49m\u001b[43m_configure\u001b[49m\u001b[43m(\u001b[49m\u001b[33;43m'\u001b[39;49m\u001b[33;43mconfigure\u001b[39;49m\u001b[33;43m'\u001b[39;49m\u001b[43m,\u001b[49m\u001b[43m \u001b[49m\u001b[43mcnf\u001b[49m\u001b[43m,\u001b[49m\u001b[43m \u001b[49m\u001b[43mkw\u001b[49m\u001b[43m)\u001b[49m\n",
      "\u001b[36mFile \u001b[39m\u001b[32mc:\\Personal\\programming\\expense_tracker\\env\\Lib\\tkinter\\__init__.py:1812\u001b[39m, in \u001b[36mMisc._configure\u001b[39m\u001b[34m(self, cmd, cnf, kw)\u001b[39m\n\u001b[32m   1810\u001b[39m \u001b[38;5;28;01mif\u001b[39;00m \u001b[38;5;28misinstance\u001b[39m(cnf, \u001b[38;5;28mstr\u001b[39m):\n\u001b[32m   1811\u001b[39m     \u001b[38;5;28;01mreturn\u001b[39;00m \u001b[38;5;28mself\u001b[39m._getconfigure1(_flatten((\u001b[38;5;28mself\u001b[39m._w, cmd, \u001b[33m'\u001b[39m\u001b[33m-\u001b[39m\u001b[33m'\u001b[39m+cnf)))\n\u001b[32m-> \u001b[39m\u001b[32m1812\u001b[39m \u001b[38;5;28;43mself\u001b[39;49m\u001b[43m.\u001b[49m\u001b[43mtk\u001b[49m\u001b[43m.\u001b[49m\u001b[43mcall\u001b[49m\u001b[43m(\u001b[49m\u001b[43m_flatten\u001b[49m\u001b[43m(\u001b[49m\u001b[43m(\u001b[49m\u001b[38;5;28;43mself\u001b[39;49m\u001b[43m.\u001b[49m\u001b[43m_w\u001b[49m\u001b[43m,\u001b[49m\u001b[43m \u001b[49m\u001b[43mcmd\u001b[49m\u001b[43m)\u001b[49m\u001b[43m)\u001b[49m\u001b[43m \u001b[49m\u001b[43m+\u001b[49m\u001b[43m \u001b[49m\u001b[38;5;28;43mself\u001b[39;49m\u001b[43m.\u001b[49m\u001b[43m_options\u001b[49m\u001b[43m(\u001b[49m\u001b[43mcnf\u001b[49m\u001b[43m)\u001b[49m\u001b[43m)\u001b[49m\n",
      "\u001b[31mTclError\u001b[39m: invalid command name \".\""
     ]
    }
   ],
   "source": [
    "import tkinter as tk\n",
    "from tkinter import ttk\n",
    "# window instance with manual name\n",
    "window = tk.Tk(className='expense tracker')\n",
    "\n",
    "# size of tkinter window\n",
    "w = 600\n",
    "h = 600\n",
    "\n",
    "# get width/height of the screen\n",
    "screen_w = window.winfo_screenwidth()\n",
    "screen_h = window.winfo_screenheight()\n",
    "\n",
    "# get coordinates of windows top left corner, to place it in middle\n",
    "x = (screen_w / 2) - (w / 2)\n",
    "y = (screen_h / 2) - (h / 2)\n",
    "\n",
    "# setup size and placement\n",
    "# x - multiply, %d - placeholder, % () - replacement in order\n",
    "window.geometry('%dx%d+%d+%d' % (w, h, x, y))\n",
    "\n",
    "menu = tk.Menu(window)\n",
    "window.config(menu=menu)\n",
    "file_menu = tk.Menu(menu)\n",
    "menu.add_cascade(label='Window', menu=file_menu)\n",
    "file_menu.add_command(label='New')\n",
    "file_menu.add_command(label='Overview')\n",
    "file_menu.add_command(label='History')\n",
    "file_menu.add_command(label='Chart')\n",
    "\n",
    "export_menu = tk.Menu(menu)\n",
    "menu.add_cascade(label='Export', menu=export_menu)\n",
    "export_menu.add_command(label='To CSV')\n",
    "export_menu.add_command(label='To xlsx')\n",
    "\n",
    "help_menu = tk.Menu(menu)\n",
    "menu.add_cascade(label='Help', menu=help_menu)\n",
    "help_menu.add_command(label='Files')\n",
    "help_menu.add_command(label='New entry')\n",
    "help_menu.add_command(label='Overview')\n",
    "help_menu.add_command(label='History')\n",
    "help_menu.add_command(label='Chart')\n",
    "help_menu.add_command(label='Export')\n",
    "\n",
    "# goes through all widgets of parent and erases them\n",
    "def reset_window():\n",
    "    for widget in main_frame.winfo_children():\n",
    "        widget.destroy()\n",
    "\n",
    "# create empty frame where widgets will appear\n",
    "main_frame = tk.Frame(window)\n",
    "# position it to whole space\n",
    "main_frame.pack(fill='both', expand='True')\n",
    "\n",
    "def create_chart():\n",
    "    reset_window()\n",
    "    # label of the window\n",
    "    header = tk.Label(main_frame, text='Earning/Spending Chart', font=('System', 26))\n",
    "    header.pack(pady=20)\n",
    "    # account choice\n",
    "    acounts = ttk.Combobox(main_frame, values=['temp1', 'temp2'], font=('System', 18))\n",
    "    acounts.pack(pady=80)\n",
    "    acounts.current(0)\n",
    "    # spacer to position button\n",
    "    spacer = tk.Frame(main_frame, height=200)\n",
    "    spacer.pack()\n",
    "    # button to activate\n",
    "    button = tk.Button(main_frame, text='Plot', activebackground='white', activeforeground='black', font=('System', 18))\n",
    "    button.pack(pady=20)\n",
    "\n",
    "\n",
    "create_chart()\n",
    "\n",
    "window.mainloop()\n",
    "\n",
    "window.configure(bg='#3f3f41')\n",
    "def close_window(e):\n",
    "    window.destroy()\n",
    "    \n",
    "window.bind('<Escape>', lambda e: close_window(e))\n",
    "\n",
    "def create_history():\n",
    "    reset_window()\n",
    "    # label of the window\n",
    "    header = tk.Label(main_frame, text='Finance History', font=('System', 26))\n",
    "    header.pack(pady=20)\n",
    "    # account choice\n",
    "    acounts = ttk.Combobox(main_frame, values=['temp1', 'temp2'], font=('System', 18))\n",
    "    acounts.pack(pady=60)\n",
    "    acounts.current(0)\n",
    "    # date choice - currently just UI \n",
    "    date = ttk.Combobox(main_frame, values=['1 month', '3 months'], font=('System', 18))\n",
    "    date.pack(pady=60)\n",
    "    date.current(0)\n",
    "    # spacer to position button\n",
    "    spacer = tk.Frame(main_frame, height=100)\n",
    "    spacer.pack()\n",
    "    # button to activate\n",
    "    button = tk.Button(main_frame, text='Show', activebackground='white', activeforeground='black', font=('System', 18))\n",
    "    button.pack(pady=20)\n",
    "\n",
    "def create_overview():\n",
    "    reset_window()\n",
    "    # label of the window\n",
    "    header = tk.Label(main_frame, text='Finance Overview', font=('System', 26))\n",
    "    header.pack(pady=20)\n",
    "    # account choice\n",
    "    acounts = ttk.Combobox(main_frame, values=['temp1', 'temp2'], font=('System', 18))\n",
    "    acounts.pack(pady=80)\n",
    "    acounts.current(0)\n",
    "    # spacer to position button\n",
    "    spacer = tk.Frame(main_frame, height=200)\n",
    "    spacer.pack()\n",
    "    # button to activate\n",
    "    button = tk.Button(main_frame, text='Show', activebackground='white', activeforeground='black', font=('System', 18))\n",
    "    button.pack(pady=20)\n",
    "\n",
    "# add entry window\n",
    "def create_entry():\n",
    "    reset_window()\n",
    "    # label of the window\n",
    "    header = tk.Label(main_frame, text='New Entry', font=('System', 26))\n",
    "    header.pack(pady=20)\n",
    "    # acount choice, currently just UI element\n",
    "    acounts = ttk.Combobox(main_frame, values=['temp1', 'temp2'], font=('System', 18))\n",
    "    acounts.pack(pady=50)\n",
    "    acounts.current(0)\n",
    "    # amount input field\n",
    "    amount = tk.Entry(main_frame, selectbackground='white', selectforeground='black', font=('System', 18))\n",
    "    amount.pack(pady=50)\n",
    "    # source/desination input field\n",
    "    text = tk.Entry(main_frame, selectbackground='white', selectforeground='black', font=('System', 18))\n",
    "    text.pack(pady=50)\n",
    "    # activation button - save to txt file\n",
    "    button = tk.Button(main_frame, text='Save', activebackground='white', activeforeground='black', font=('System', 18))\n",
    "    button.pack(pady=20)"
   ]
  },
  {
   "cell_type": "markdown",
   "id": "d2bd3319",
   "metadata": {},
   "source": [
    "#### export window UI"
   ]
  },
  {
   "cell_type": "code",
   "execution_count": null,
   "id": "24016eb5",
   "metadata": {},
   "outputs": [],
   "source": []
  },
  {
   "cell_type": "code",
   "execution_count": 31,
   "id": "111a73f9",
   "metadata": {},
   "outputs": [],
   "source": [
    "window.mainloop()"
   ]
  }
 ],
 "metadata": {
  "kernelspec": {
   "display_name": "Python 3",
   "language": "python",
   "name": "python3"
  },
  "language_info": {
   "codemirror_mode": {
    "name": "ipython",
    "version": 3
   },
   "file_extension": ".py",
   "mimetype": "text/x-python",
   "name": "python",
   "nbconvert_exporter": "python",
   "pygments_lexer": "ipython3",
   "version": "3.13.5"
  }
 },
 "nbformat": 4,
 "nbformat_minor": 5
}
