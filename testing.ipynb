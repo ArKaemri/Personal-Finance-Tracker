{
 "cells": [
  {
   "cell_type": "markdown",
   "id": "ce7c9b8e",
   "metadata": {},
   "source": [
    "## Dependencies"
   ]
  },
  {
   "cell_type": "code",
   "execution_count": 2,
   "id": "572b4b21",
   "metadata": {},
   "outputs": [],
   "source": [
    "import tkinter as tk"
   ]
  },
  {
   "cell_type": "markdown",
   "id": "e2cb175c",
   "metadata": {},
   "source": [
    "## UI display"
   ]
  },
  {
   "cell_type": "markdown",
   "id": "a38fad33",
   "metadata": {},
   "source": [
    "#### popup window"
   ]
  },
  {
   "cell_type": "code",
   "execution_count": 26,
   "id": "683acac1",
   "metadata": {},
   "outputs": [
    {
     "data": {
      "text/plain": [
       "''"
      ]
     },
     "execution_count": 26,
     "metadata": {},
     "output_type": "execute_result"
    }
   ],
   "source": [
    "# window instance with manual name\n",
    "window = tk.Tk(className='expense tracker')\n",
    "\n",
    "# size of tkinter window\n",
    "w = 800\n",
    "h = 800\n",
    "\n",
    "# get width/height of the screen\n",
    "screen_w = window.winfo_screenwidth()\n",
    "screen_h = window.winfo_screenheight()\n",
    "\n",
    "# get coordinates of windows top left corner, to place it in middle\n",
    "x = (screen_w / 2) - (w / 2)\n",
    "y = (screen_h / 2) - (h / 2)\n",
    "\n",
    "# setup size and placement\n",
    "# x - multiply, %d - placeholder, % () - replacement in order\n",
    "window.geometry('%dx%d+%d+%d' % (w, h, x, y))\n",
    "\n",
    "# setup window color\n",
    "window.configure(bg='#3f3f41')"
   ]
  },
  {
   "cell_type": "markdown",
   "id": "e3a31937",
   "metadata": {},
   "source": [
    "#### bind Esc key to close window"
   ]
  },
  {
   "cell_type": "code",
   "execution_count": null,
   "id": "d796f0ef",
   "metadata": {},
   "outputs": [
    {
     "data": {
      "text/plain": [
       "'2077148923840<lambda>'"
      ]
     },
     "execution_count": 27,
     "metadata": {},
     "output_type": "execute_result"
    }
   ],
   "source": [
    "# close window by passing variable\n",
    "def close_window(e):\n",
    "    window.destroy()\n",
    "    \n",
    "# pass Esc key as variable for function\n",
    "window.bind('<Escape>', lambda e: close_window(e))"
   ]
  },
  {
   "cell_type": "markdown",
   "id": "d15af533",
   "metadata": {},
   "source": [
    "#### menu "
   ]
  },
  {
   "cell_type": "code",
   "execution_count": 3,
   "id": "8b2ea84b",
   "metadata": {},
   "outputs": [
    {
     "ename": "TclError",
     "evalue": "can't invoke \"menu\" command: application has been destroyed",
     "output_type": "error",
     "traceback": [
      "\u001b[31m---------------------------------------------------------------------------\u001b[39m",
      "\u001b[31mTclError\u001b[39m                                  Traceback (most recent call last)",
      "\u001b[36mCell\u001b[39m\u001b[36m \u001b[39m\u001b[32mIn[3]\u001b[39m\u001b[32m, line 2\u001b[39m\n\u001b[32m      1\u001b[39m \u001b[38;5;66;03m# create main menu (whole top bar where all options reside)\u001b[39;00m\n\u001b[32m----> \u001b[39m\u001b[32m2\u001b[39m menu = \u001b[43mtk\u001b[49m\u001b[43m.\u001b[49m\u001b[43mMenu\u001b[49m\u001b[43m(\u001b[49m\u001b[43mwindow\u001b[49m\u001b[43m)\u001b[49m\n\u001b[32m      3\u001b[39m \u001b[38;5;66;03m# set the menu\u001b[39;00m\n\u001b[32m      4\u001b[39m window.config(menu=menu)\n",
      "\u001b[36mFile \u001b[39m\u001b[32mc:\\Personal\\programming\\expense_tracker\\env\\Lib\\tkinter\\__init__.py:3492\u001b[39m, in \u001b[36mMenu.__init__\u001b[39m\u001b[34m(self, master, cnf, **kw)\u001b[39m\n\u001b[32m   3485\u001b[39m \u001b[38;5;28;01mdef\u001b[39;00m\u001b[38;5;250m \u001b[39m\u001b[34m__init__\u001b[39m(\u001b[38;5;28mself\u001b[39m, master=\u001b[38;5;28;01mNone\u001b[39;00m, cnf={}, **kw):\n\u001b[32m   3486\u001b[39m \u001b[38;5;250m    \u001b[39m\u001b[33;03m\"\"\"Construct menu widget with the parent MASTER.\u001b[39;00m\n\u001b[32m   3487\u001b[39m \n\u001b[32m   3488\u001b[39m \u001b[33;03m    Valid resource names: activebackground, activeborderwidth,\u001b[39;00m\n\u001b[32m   3489\u001b[39m \u001b[33;03m    activeforeground, background, bd, bg, borderwidth, cursor,\u001b[39;00m\n\u001b[32m   3490\u001b[39m \u001b[33;03m    disabledforeground, fg, font, foreground, postcommand, relief,\u001b[39;00m\n\u001b[32m   3491\u001b[39m \u001b[33;03m    selectcolor, takefocus, tearoff, tearoffcommand, title, type.\"\"\"\u001b[39;00m\n\u001b[32m-> \u001b[39m\u001b[32m3492\u001b[39m     \u001b[43mWidget\u001b[49m\u001b[43m.\u001b[49m\u001b[34;43m__init__\u001b[39;49m\u001b[43m(\u001b[49m\u001b[38;5;28;43mself\u001b[39;49m\u001b[43m,\u001b[49m\u001b[43m \u001b[49m\u001b[43mmaster\u001b[49m\u001b[43m,\u001b[49m\u001b[43m \u001b[49m\u001b[33;43m'\u001b[39;49m\u001b[33;43mmenu\u001b[39;49m\u001b[33;43m'\u001b[39;49m\u001b[43m,\u001b[49m\u001b[43m \u001b[49m\u001b[43mcnf\u001b[49m\u001b[43m,\u001b[49m\u001b[43m \u001b[49m\u001b[43mkw\u001b[49m\u001b[43m)\u001b[49m\n",
      "\u001b[36mFile \u001b[39m\u001b[32mc:\\Personal\\programming\\expense_tracker\\env\\Lib\\tkinter\\__init__.py:2774\u001b[39m, in \u001b[36mBaseWidget.__init__\u001b[39m\u001b[34m(self, master, widgetName, cnf, kw, extra)\u001b[39m\n\u001b[32m   2772\u001b[39m \u001b[38;5;28;01mfor\u001b[39;00m k, v \u001b[38;5;129;01min\u001b[39;00m classes:\n\u001b[32m   2773\u001b[39m     \u001b[38;5;28;01mdel\u001b[39;00m cnf[k]\n\u001b[32m-> \u001b[39m\u001b[32m2774\u001b[39m \u001b[38;5;28;43mself\u001b[39;49m\u001b[43m.\u001b[49m\u001b[43mtk\u001b[49m\u001b[43m.\u001b[49m\u001b[43mcall\u001b[49m\u001b[43m(\u001b[49m\n\u001b[32m   2775\u001b[39m \u001b[43m    \u001b[49m\u001b[43m(\u001b[49m\u001b[43mwidgetName\u001b[49m\u001b[43m,\u001b[49m\u001b[43m \u001b[49m\u001b[38;5;28;43mself\u001b[39;49m\u001b[43m.\u001b[49m\u001b[43m_w\u001b[49m\u001b[43m)\u001b[49m\u001b[43m \u001b[49m\u001b[43m+\u001b[49m\u001b[43m \u001b[49m\u001b[43mextra\u001b[49m\u001b[43m \u001b[49m\u001b[43m+\u001b[49m\u001b[43m \u001b[49m\u001b[38;5;28;43mself\u001b[39;49m\u001b[43m.\u001b[49m\u001b[43m_options\u001b[49m\u001b[43m(\u001b[49m\u001b[43mcnf\u001b[49m\u001b[43m)\u001b[49m\u001b[43m)\u001b[49m\n\u001b[32m   2776\u001b[39m \u001b[38;5;28;01mfor\u001b[39;00m k, v \u001b[38;5;129;01min\u001b[39;00m classes:\n\u001b[32m   2777\u001b[39m     k.configure(\u001b[38;5;28mself\u001b[39m, v)\n",
      "\u001b[31mTclError\u001b[39m: can't invoke \"menu\" command: application has been destroyed"
     ]
    }
   ],
   "source": [
    "# create main menu (whole top bar where all options reside)\n",
    "menu = tk.Menu(window)\n",
    "# set the menu\n",
    "window.config(menu=menu)\n",
    "\n",
    "# create submenu (seperate options that will have choices after clicked)\n",
    "file_menu = tk.Menu(menu)\n",
    "# name it and add to the main menu\n",
    "menu.add_cascade(label='Window', menu=file_menu)\n",
    "# add seperate choices\n",
    "file_menu.add_command(label='New')\n",
    "file_menu.add_command(label='Overview')\n",
    "file_menu.add_command(label='History')\n",
    "file_menu.add_command(label='Chart')\n",
    "\n",
    "# repeat with second submenu\n",
    "export_menu = tk.Menu(menu)\n",
    "menu.add_cascade(label='Export', menu=export_menu)\n",
    "export_menu.add_command(label='To CSV')\n",
    "export_menu.add_command(label='To xlsx')\n",
    "\n",
    "# repeat with third submenu\n",
    "help_menu = tk.Menu(menu)\n",
    "menu.add_cascade(label='Help', menu=help_menu)\n",
    "help_menu.add_command(label='Files')\n",
    "help_menu.add_command(label='New entry')\n",
    "help_menu.add_command(label='Overview')\n",
    "help_menu.add_command(label='History')\n",
    "help_menu.add_command(label='Chart')\n",
    "help_menu.add_command(label='Export')"
   ]
  },
  {
   "cell_type": "markdown",
   "id": "b0c96912",
   "metadata": {},
   "source": [
    "#### position 'new entry' block"
   ]
  },
  {
   "cell_type": "code",
   "execution_count": null,
   "id": "b5b4ec1f",
   "metadata": {},
   "outputs": [],
   "source": [
    "# create label, add name, change font size, match bacground color\n",
    "entry_name = tk.Label(window, text='New Entry', font=('System', 20), bg='#3f3f41', fg='white').pack()\n",
    "\n"
   ]
  },
  {
   "cell_type": "markdown",
   "id": "9a1b89f8",
   "metadata": {},
   "source": [
    "#### position 'graph' block"
   ]
  },
  {
   "cell_type": "code",
   "execution_count": null,
   "id": "8c589895",
   "metadata": {},
   "outputs": [],
   "source": []
  },
  {
   "cell_type": "markdown",
   "id": "3d2e2918",
   "metadata": {},
   "source": [
    "#### position table block"
   ]
  },
  {
   "cell_type": "code",
   "execution_count": null,
   "id": "dca7aa8a",
   "metadata": {},
   "outputs": [],
   "source": []
  },
  {
   "cell_type": "markdown",
   "id": "3fb4b469",
   "metadata": {},
   "source": [
    "#### position 'chart' block"
   ]
  },
  {
   "cell_type": "code",
   "execution_count": null,
   "id": "4d2396db",
   "metadata": {},
   "outputs": [],
   "source": []
  },
  {
   "cell_type": "code",
   "execution_count": 31,
   "id": "111a73f9",
   "metadata": {},
   "outputs": [],
   "source": [
    "window.mainloop()"
   ]
  },
  {
   "cell_type": "markdown",
   "id": "cec9020c",
   "metadata": {},
   "source": [
    "# Test"
   ]
  },
  {
   "cell_type": "code",
   "execution_count": 4,
   "id": "ccea3f26",
   "metadata": {},
   "outputs": [],
   "source": [
    "import tkinter as tk\n",
    "# window instance with manual name\n",
    "window = tk.Tk(className='expense tracker')\n",
    "\n",
    "# size of tkinter window\n",
    "w = 800\n",
    "h = 800\n",
    "\n",
    "# get width/height of the screen\n",
    "screen_w = window.winfo_screenwidth()\n",
    "screen_h = window.winfo_screenheight()\n",
    "\n",
    "# get coordinates of windows top left corner, to place it in middle\n",
    "x = (screen_w / 2) - (w / 2)\n",
    "y = (screen_h / 2) - (h / 2)\n",
    "\n",
    "# setup size and placement\n",
    "# x - multiply, %d - placeholder, % () - replacement in order\n",
    "window.geometry('%dx%d+%d+%d' % (w, h, x, y))\n",
    "window.configure(bg='#3f3f41')\n",
    "def close_window(e):\n",
    "    window.destroy()\n",
    "    \n",
    "window.bind('<Escape>', lambda e: close_window(e))\n",
    "\n",
    "menu = tk.Menu(window)\n",
    "window.config(menu=menu)\n",
    "file_menu = tk.Menu(menu)\n",
    "menu.add_cascade(label='Window', menu=file_menu)\n",
    "file_menu.add_command(label='New')\n",
    "file_menu.add_command(label='Overview')\n",
    "file_menu.add_command(label='History')\n",
    "file_menu.add_command(label='Chart')\n",
    "\n",
    "export_menu = tk.Menu(menu)\n",
    "menu.add_cascade(label='Export', menu=export_menu)\n",
    "export_menu.add_command(label='To CSV')\n",
    "export_menu.add_command(label='To xlsx')\n",
    "\n",
    "help_menu = tk.Menu(menu)\n",
    "menu.add_cascade(label='Help', menu=help_menu)\n",
    "help_menu.add_command(label='Files')\n",
    "help_menu.add_command(label='New entry')\n",
    "help_menu.add_command(label='Overview')\n",
    "help_menu.add_command(label='History')\n",
    "help_menu.add_command(label='Chart')\n",
    "help_menu.add_command(label='Export')\n",
    "\n",
    "window.mainloop()"
   ]
  }
 ],
 "metadata": {
  "kernelspec": {
   "display_name": "Python 3",
   "language": "python",
   "name": "python3"
  },
  "language_info": {
   "codemirror_mode": {
    "name": "ipython",
    "version": 3
   },
   "file_extension": ".py",
   "mimetype": "text/x-python",
   "name": "python",
   "nbconvert_exporter": "python",
   "pygments_lexer": "ipython3",
   "version": "3.13.5"
  }
 },
 "nbformat": 4,
 "nbformat_minor": 5
}
