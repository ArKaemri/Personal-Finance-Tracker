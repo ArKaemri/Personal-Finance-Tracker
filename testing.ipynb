{
 "cells": [
  {
   "cell_type": "markdown",
   "id": "ce7c9b8e",
   "metadata": {},
   "source": [
    "## Dependencies"
   ]
  },
  {
   "cell_type": "code",
   "execution_count": 25,
   "id": "572b4b21",
   "metadata": {},
   "outputs": [],
   "source": [
    "import tkinter as tk"
   ]
  },
  {
   "cell_type": "markdown",
   "id": "e2cb175c",
   "metadata": {},
   "source": [
    "## UI display"
   ]
  },
  {
   "cell_type": "markdown",
   "id": "a38fad33",
   "metadata": {},
   "source": [
    "#### popup window"
   ]
  },
  {
   "cell_type": "code",
   "execution_count": 26,
   "id": "683acac1",
   "metadata": {},
   "outputs": [
    {
     "data": {
      "text/plain": [
       "''"
      ]
     },
     "execution_count": 26,
     "metadata": {},
     "output_type": "execute_result"
    }
   ],
   "source": [
    "# window instance with manual name\n",
    "window = tk.Tk(className='expense tracker')\n",
    "\n",
    "# size of tkinter window\n",
    "w = 800\n",
    "h = 800\n",
    "\n",
    "# get width/height of the screen\n",
    "screen_w = window.winfo_screenwidth()\n",
    "screen_h = window.winfo_screenheight()\n",
    "\n",
    "# get coordinates of windows top left corner, to place it in middle\n",
    "x = (screen_w / 2) - (w / 2)\n",
    "y = (screen_h / 2) - (h / 2)\n",
    "\n",
    "# setup size and placement\n",
    "# x - multiply, %d - placeholder, % () - replacement in order\n",
    "window.geometry('%dx%d+%d+%d' % (w, h, x, y))\n",
    "\n",
    "# setup window color\n",
    "window.configure(bg='#3f3f41')"
   ]
  },
  {
   "cell_type": "markdown",
   "id": "e3a31937",
   "metadata": {},
   "source": [
    "#### bind Esc key to close window"
   ]
  },
  {
   "cell_type": "code",
   "execution_count": 27,
   "id": "d796f0ef",
   "metadata": {},
   "outputs": [
    {
     "data": {
      "text/plain": [
       "'2077148923840<lambda>'"
      ]
     },
     "execution_count": 27,
     "metadata": {},
     "output_type": "execute_result"
    }
   ],
   "source": [
    "def close_window(e):\n",
    "    window.destroy()\n",
    "    \n",
    "window.bind('<Escape>', lambda e: close_window(e))"
   ]
  },
  {
   "cell_type": "markdown",
   "id": "d15af533",
   "metadata": {},
   "source": [
    "#### menu "
   ]
  },
  {
   "cell_type": "code",
   "execution_count": null,
   "id": "8b2ea84b",
   "metadata": {},
   "outputs": [],
   "source": []
  },
  {
   "cell_type": "markdown",
   "id": "b0c96912",
   "metadata": {},
   "source": [
    "#### position 'new entry' block"
   ]
  },
  {
   "cell_type": "code",
   "execution_count": null,
   "id": "b5b4ec1f",
   "metadata": {},
   "outputs": [],
   "source": [
    "# create label, add name, change font size, match bacground color\n",
    "entry_name = tk.Label(window, text='New Entry', font=('System', 20), bg='#3f3f41', fg='white').pack()\n",
    "\n"
   ]
  },
  {
   "cell_type": "markdown",
   "id": "9a1b89f8",
   "metadata": {},
   "source": [
    "#### position 'graph' block"
   ]
  },
  {
   "cell_type": "code",
   "execution_count": null,
   "id": "8c589895",
   "metadata": {},
   "outputs": [],
   "source": []
  },
  {
   "cell_type": "markdown",
   "id": "3d2e2918",
   "metadata": {},
   "source": [
    "#### position table block"
   ]
  },
  {
   "cell_type": "code",
   "execution_count": null,
   "id": "dca7aa8a",
   "metadata": {},
   "outputs": [],
   "source": []
  },
  {
   "cell_type": "markdown",
   "id": "3fb4b469",
   "metadata": {},
   "source": [
    "#### position 'chart' block"
   ]
  },
  {
   "cell_type": "code",
   "execution_count": null,
   "id": "4d2396db",
   "metadata": {},
   "outputs": [],
   "source": []
  },
  {
   "cell_type": "code",
   "execution_count": 31,
   "id": "111a73f9",
   "metadata": {},
   "outputs": [],
   "source": [
    "window.mainloop()"
   ]
  },
  {
   "cell_type": "markdown",
   "id": "cec9020c",
   "metadata": {},
   "source": [
    "# Test"
   ]
  },
  {
   "cell_type": "code",
   "execution_count": null,
   "id": "ccea3f26",
   "metadata": {},
   "outputs": [],
   "source": [
    "# window instance with manual name\n",
    "window = tk.Tk(className='expense tracker')\n",
    "\n",
    "# size of tkinter window\n",
    "w = 800\n",
    "h = 800\n",
    "\n",
    "# get width/height of the screen\n",
    "screen_w = window.winfo_screenwidth()\n",
    "screen_h = window.winfo_screenheight()\n",
    "\n",
    "# get coordinates of windows top left corner, to place it in middle\n",
    "x = (screen_w / 2) - (w / 2)\n",
    "y = (screen_h / 2) - (h / 2)\n",
    "\n",
    "# setup size and placement\n",
    "# x - multiply, %d - placeholder, % () - replacement in order\n",
    "window.geometry('%dx%d+%d+%d' % (w, h, x, y))\n",
    "window.configure(bg='#3f3f41')\n",
    "def close_window(e):\n",
    "    window.destroy()\n",
    "    \n",
    "window.bind('<Escape>', lambda e: close_window(e))\n",
    "\n",
    "\n",
    "\n",
    "window.mainloop()"
   ]
  }
 ],
 "metadata": {
  "kernelspec": {
   "display_name": "Python 3",
   "language": "python",
   "name": "python3"
  },
  "language_info": {
   "codemirror_mode": {
    "name": "ipython",
    "version": 3
   },
   "file_extension": ".py",
   "mimetype": "text/x-python",
   "name": "python",
   "nbconvert_exporter": "python",
   "pygments_lexer": "ipython3",
   "version": "3.13.5"
  }
 },
 "nbformat": 4,
 "nbformat_minor": 5
}
